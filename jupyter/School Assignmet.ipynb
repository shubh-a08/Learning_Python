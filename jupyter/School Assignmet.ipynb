{
 "cells": [
  {
   "cell_type": "code",
   "execution_count": 2,
   "metadata": {},
   "outputs": [
    {
     "name": "stdout",
     "output_type": "stream",
     "text": [
      "how many number :5\n",
      "provide a number :1\n",
      "provide a number :2\n",
      "provide a number :3\n",
      "provide a number :4\n",
      "provide a number :5\n",
      "[1, 2, 3, 4, 5]\n"
     ]
    }
   ],
   "source": [
    "# copy list\n",
    "x= int(input(\"how many number :\"))\n",
    "y = []\n",
    "for aa in range(x):\n",
    "    z = int(input(\"provide a number :\"))\n",
    "    y.append(z)\n",
    "\n",
    "a = y\n",
    "print(a)\n",
    "\n",
    "\n",
    "\n",
    "\n"
   ]
  },
  {
   "cell_type": "code",
   "execution_count": 5,
   "metadata": {},
   "outputs": [
    {
     "name": "stdout",
     "output_type": "stream",
     "text": [
      "how many lists :3\n",
      "how many number :2\n",
      "provide a number :1\n",
      "provide a number :2\n",
      "this list is not empty\n",
      "how many number :2\n",
      "provide a number :3\n",
      "provide a number :3\n",
      "this list is not empty\n",
      "how many number :3\n",
      "provide a number :12\n",
      "provide a number :23\n",
      "provide a number :12\n",
      "this list is not empty\n"
     ]
    }
   ],
   "source": [
    "# check if list is empty or not\n",
    "a = int(input(\"how many lists :\"))\n",
    "for ab in range(a):\n",
    "    x= int(input(\"how many number :\"))\n",
    "    y = []\n",
    "    for aa in range(x):\n",
    "        z = int(input(\"provide a number :\"))\n",
    "        y.append(z)\n",
    "    if len(y) == 0:\n",
    "        print(\"this list is empty\")\n",
    "    else:\n",
    "        print(\"this list is not empty\")\n",
    "\n",
    "\n",
    "\n"
   ]
  },
  {
   "cell_type": "code",
   "execution_count": null,
   "metadata": {},
   "outputs": [],
   "source": [
    "#find common member\n",
    "x= int(input(\" for a how many number :\"))\n",
    "a = []\n",
    "for aa in range(x):\n",
    "    z = int(input(\"provide a number :\"))\n",
    "    a.append(z)\n",
    "\n",
    "xx= int(input(\"for b how many number :\"))\n",
    "b = []\n",
    "for aa in range(xx):\n",
    "    z = int(input(\"provide a number :\"))\n",
    "    b.append(z)\n",
    "c = False\n",
    "for ab in a:\n",
    "    for ac in b:\n",
    "        if ab == ac:\n",
    "            c = True\n",
    "\n",
    "print(c)"
   ]
  },
  {
   "cell_type": "code",
   "execution_count": 2,
   "metadata": {},
   "outputs": [
    {
     "name": "stdout",
     "output_type": "stream",
     "text": [
      "[1, 4, 9, 16, 25, 6, 7, 8, 9, 10, 11, 12, 13, 14, 15, 16, 17, 18, 19, 20, 21, 22, 23, 24, 25, 676, 729, 784, 841, 900]\n"
     ]
    }
   ],
   "source": [
    "''' to generate and print a list of first and last 5 elements where the values are square \n",
    "of numbers between 1 and 30 (both included)\n",
    "'''\n",
    "x = []\n",
    "for i in range(1,6):\n",
    "    a = i*i\n",
    "    x.append(a)\n",
    "for j in range(6,26):\n",
    "    x.append(j)\n",
    "for k in range(26,31):\n",
    "    b = k*k\n",
    "    x.append(b)\n",
    "print(x)"
   ]
  },
  {
   "cell_type": "code",
   "execution_count": 3,
   "metadata": {},
   "outputs": [
    {
     "name": "stdout",
     "output_type": "stream",
     "text": [
      "[6, 7, 8, 9, 10, 11, 12, 13, 14, 15, 16, 17, 18, 19, 20, 21, 22, 23, 24, 25, 676, 729, 784, 841, 900]\n"
     ]
    }
   ],
   "source": [
    "x = []\n",
    "for j in range(6,26):\n",
    "    x.append(j)\n",
    "for k in range(26,31):\n",
    "    b = k*k\n",
    "    x.append(b)\n",
    "print(x)\n"
   ]
  },
  {
   "cell_type": "code",
   "execution_count": 6,
   "metadata": {},
   "outputs": [
    {
     "name": "stdout",
     "output_type": "stream",
     "text": [
      "[('abc', 'bcd', 'def'), ('abc', 'def', 'bcd'), ('bcd', 'abc', 'def'), ('bcd', 'def', 'abc'), ('def', 'abc', 'bcd'), ('def', 'bcd', 'abc')]\n"
     ]
    }
   ],
   "source": [
    "'''to generate all permutations of a list in Python'''\n",
    "from itertools import permutations\n",
    "l = ['abc','bcd','def']\n",
    "print(list(permutations(l)))"
   ]
  },
  {
   "cell_type": "code",
   "execution_count": 8,
   "metadata": {},
   "outputs": [
    {
     "name": "stdout",
     "output_type": "stream",
     "text": [
      "[-2, -2, -2, -2, -2]\n"
     ]
    }
   ],
   "source": [
    "# to get the difference between the two lists\n",
    "x= int(input(\" for a how many number :\"))\n",
    "a = []\n",
    "for aa in range(x):\n",
    "    z = input(\"provide a number :\")\n",
    "    a.append(z)\n",
    "\n",
    "xx= int(input(\" for a how many number :\"))\n",
    "b = []\n",
    "for aa in range(xx):\n",
    "    z = input(\"provide a number :\")\n",
    "    b.append(z)\n",
    "\n",
    "\n",
    "if len(a) > len(b):\n",
    "    c = len(b)\n",
    "elif len(a)<len(b):\n",
    "    c= len(a)\n",
    "elif len(a) == len(b):\n",
    "    c = len(a)\n",
    "d= []\n",
    "for i in range(c):\n",
    "    e = a[i] - b[i]\n",
    "    d.append(e)\n",
    "print(d)"
   ]
  },
  {
   "cell_type": "code",
   "execution_count": 9,
   "metadata": {},
   "outputs": [
    {
     "name": "stdout",
     "output_type": "stream",
     "text": [
      "adsasdsadawdsd\n"
     ]
    }
   ],
   "source": [
    "# to convert a list of characters into a string\n",
    "x= input(\"how many :\"))\n",
    "a = []\n",
    "for aa in range(x):\n",
    "    z = input(\" how many:\")\n",
    "    a.append(z)\n",
    "\n",
    "b = a[0]\n",
    "a.pop(0)\n",
    "for i in a:\n",
    "    b = b + i \n",
    "    \n",
    "print(b)"
   ]
  },
  {
   "cell_type": "code",
   "execution_count": 10,
   "metadata": {},
   "outputs": [
    {
     "name": "stdout",
     "output_type": "stream",
     "text": [
      " for a how many number :3\n",
      "provide a number :1\n",
      "provide a number :2\n",
      "provide a number :3\n",
      " for b how many number :3\n",
      "provide a number :4\n",
      "provide a number :5\n",
      "provide a number :6\n",
      "['1', '2', '3', '4', '5', '6']\n"
     ]
    }
   ],
   "source": [
    "# to append a list to the second list\n",
    "x= int(input(\" for a how many number :\"))\n",
    "a = []\n",
    "for aa in range(x):\n",
    "    z = input(\"provide a number :\")\n",
    "    a.append(z)\n",
    "\n",
    "xx= int(input(\" for b how many number :\"))\n",
    "b = []\n",
    "for aa in range(xx):\n",
    "    z = input(\"provide a number :\")\n",
    "    b.append(z)\n",
    "c = a+b\n",
    "print(c)"
   ]
  },
  {
   "cell_type": "code",
   "execution_count": 11,
   "metadata": {},
   "outputs": [
    {
     "name": "stdout",
     "output_type": "stream",
     "text": [
      "6\n"
     ]
    }
   ],
   "source": [
    "# to select an item randomly from a list\n",
    "import random\n",
    "a = []\n",
    "for aa in range(x):\n",
    "    z = input(\"provide a number :\")\n",
    "    a.append(z)\n",
    "# a = [1, 4, 9, 16, 25, 6, 7, 8, 9, 10, 11, 12]\n",
    "b = random.choice(a)\n",
    "print(b)"
   ]
  },
  {
   "cell_type": "code",
   "execution_count": 12,
   "metadata": {},
   "outputs": [
    {
     "name": "stdout",
     "output_type": "stream",
     "text": [
      "16\n"
     ]
    }
   ],
   "source": [
    "# to find the second smallest number in a list\n",
    "a = []\n",
    "for aa in range(x):\n",
    "    z = input(\"provide a number :\")\n",
    "    a.append(z)\n",
    "# a = [1, 4, 9, 16, 25, 6, 7, 8, 9, 10, 11, 12]\n",
    "a.sort()\n",
    "print(a[-2])"
   ]
  },
  {
   "cell_type": "code",
   "execution_count": 14,
   "metadata": {},
   "outputs": [
    {
     "name": "stdout",
     "output_type": "stream",
     "text": [
      "4\n"
     ]
    }
   ],
   "source": [
    "# to find the second largest number in a list\n",
    "a = []\n",
    "for aa in range(x):\n",
    "    z = input(\"provide a number :\")\n",
    "    a.append(z)\n",
    "# a = [1, 4, 9, 16, 25, 6, 7, 8, 9, 10, 11, 12]\n",
    "a.sort()\n",
    "print(a[1])\n"
   ]
  },
  {
   "cell_type": "code",
   "execution_count": 16,
   "metadata": {},
   "outputs": [
    {
     "name": "stdout",
     "output_type": "stream",
     "text": [
      "[1, 2, 3, 44, 4]\n"
     ]
    }
   ],
   "source": [
    "# unique vals\n",
    "x= int(input(\"how many number :\"))\n",
    "y = []\n",
    "for aa in range(x):\n",
    "    z = int(input(\"provide a number :\"))\n",
    "    y.append(z)\n",
    "# y = [1,2,2,3,3,44,4]\n",
    "u = []\n",
    "\n",
    "for i in y:\n",
    "    if i not in u:\n",
    "        u.append(i)\n",
    "\n",
    "print(u)\n",
    "\n"
   ]
  },
  {
   "cell_type": "code",
   "execution_count": 2,
   "metadata": {},
   "outputs": [
    {
     "name": "stdout",
     "output_type": "stream",
     "text": [
      "how many number :4\n",
      "provide a number :1\n",
      "provide a number :2\n",
      "provide a number :3\n",
      "provide a number :3\n",
      "{1: 1, 2: 1, 3: 2}\n"
     ]
    }
   ],
   "source": [
    "# to get the frequency of the elements in a list\n",
    "x= int(input(\"how many number :\"))\n",
    "y = []\n",
    "for aa in range(x):\n",
    "    z = int(input(\"provide a number :\"))\n",
    "    y.append(z)\n",
    "\n",
    "a =[]\n",
    "for ab in y:\n",
    "    if ab not in a:\n",
    "        a.append(ab)\n",
    "ac = 0\n",
    "b = {}\n",
    "for i in a:\n",
    "    b[i] = ac \n",
    "\n",
    "for i in b:\n",
    "    for j in y:\n",
    "        if i == j:\n",
    "            b[i] = b[i] + 1\n",
    "        else: \n",
    "            pass\n",
    "  \t\t    \n",
    "print(b)\n",
    "\n"
   ]
  },
  {
   "cell_type": "code",
   "execution_count": 6,
   "metadata": {},
   "outputs": [
    {
     "name": "stdout",
     "output_type": "stream",
     "text": [
      "2\n"
     ]
    }
   ],
   "source": [
    "# to count the number of elements in a list within a specified range\n",
    "x= int(input(\"how many number :\"))\n",
    "y = []\n",
    "for aa in range(x):\n",
    "    z = int(input(\"provide a number :\"))\n",
    "    y.append(z)\n",
    "# y = [1,2,3,4,5,6,7]\n",
    "a = int(input(\"low :\")) #4 \n",
    "b = int(input(:\"high :\")) #6\n",
    "c = 0\n",
    "for i in y:\n",
    "    if i in range(a,b):\n",
    "        c = c+1\n",
    "print(c)\n",
    "        \n"
   ]
  },
  {
   "cell_type": "code",
   "execution_count": 1,
   "metadata": {},
   "outputs": [
    {
     "name": "stdout",
     "output_type": "stream",
     "text": [
      "54\n"
     ]
    }
   ],
   "source": [
    "# to sum all the items in a list\n",
    "x= int(input(\"how many number :\"))\n",
    "y = []\n",
    "for aa in range(x):\n",
    "    z = int(input(\"provide a number :\"))\n",
    "    y.append(z)\n",
    "# y = [1, 2, 3, 44, 4]\n",
    "a = 0\n",
    "for i in y:\n",
    "    a = a + i \n",
    "\n",
    "print(a)\n"
   ]
  },
  {
   "cell_type": "code",
   "execution_count": 2,
   "metadata": {},
   "outputs": [
    {
     "name": "stdout",
     "output_type": "stream",
     "text": [
      "[10, 20, 30, 440, 40]\n"
     ]
    }
   ],
   "source": [
    "# to multiplies all the items in a list by a number 10\n",
    "x= int(input(\"how many number :\"))\n",
    "y = []\n",
    "for aa in range(x):\n",
    "    z = int(input(\"provide a number :\"))\n",
    "    y.append(z)\n",
    "# y = [1, 2, 3, 44, 4]\n",
    "a = []\n",
    "b = 10\n",
    "\n",
    "for i in y:\n",
    "    c =  i*b\n",
    "    a.append(c)\n",
    "\n",
    "print(a)\n",
    "\n",
    "\n"
   ]
  },
  {
   "cell_type": "code",
   "execution_count": 4,
   "metadata": {},
   "outputs": [
    {
     "name": "stdout",
     "output_type": "stream",
     "text": [
      "44\n"
     ]
    }
   ],
   "source": [
    "# to get the largest number from a list\n",
    "# option 1\n",
    "x= int(input(\"how many number :\"))\n",
    "y = []\n",
    "for aa in range(x):\n",
    "    z = int(input(\"provide a number :\"))\n",
    "    y.append(z)\n",
    "# y = [1, 2, 3, 44, 4]\n",
    "print(max(y))\n",
    "\n",
    "\n",
    "\n"
   ]
  },
  {
   "cell_type": "code",
   "execution_count": 1,
   "metadata": {},
   "outputs": [
    {
     "name": "stdout",
     "output_type": "stream",
     "text": [
      "1\n"
     ]
    }
   ],
   "source": [
    "# to get the smallest number from a list\n",
    "x= int(input(\"how many number :\"))\n",
    "y = []\n",
    "for aa in range(x):\n",
    "    z = int(input(\"provide a number :\"))\n",
    "    y.append(z)\n",
    "# y = [1, 2, 3, 44, 4]\n",
    "print(min(y))\n",
    "\n",
    "\n",
    "\n",
    "\n"
   ]
  },
  {
   "cell_type": "code",
   "execution_count": 3,
   "metadata": {},
   "outputs": [
    {
     "name": "stdout",
     "output_type": "stream",
     "text": [
      "1 is not valid\n",
      "a is not valid\n",
      "2\n"
     ]
    }
   ],
   "source": [
    "'''program to count the number of strings where the string length is 2 or more and the first and \n",
    "last character are same from a given list of strings\n",
    "'''\n",
    "# x= int(input(\"how many string :\"))\n",
    "# y = []\n",
    "# for aa in range(x):\n",
    "#     z = str(input(\"provide a number :\"))\n",
    "#     y.append(z)\n",
    "y = ['1', 'hello', 'ama', '44', 'a']\n",
    "counter = 0\n",
    "for ab in y:\n",
    "    if len(ab) >=2:\n",
    "        if ab[0] == ab[-1]:\n",
    "            counter = counter + 1\n",
    "        else:\n",
    "            pass\n",
    "    else:\n",
    "        print(ab, \"is not valid\")\n",
    "\n",
    "print(counter)\n"
   ]
  },
  {
   "cell_type": "code",
   "execution_count": 4,
   "metadata": {},
   "outputs": [
    {
     "name": "stdout",
     "output_type": "stream",
     "text": [
      "[1, 2, 3, 4]\n"
     ]
    }
   ],
   "source": [
    "# to remove duplicates from a list\n",
    "x= int(input(\"how many number :\"))\n",
    "y = []\n",
    "for aa in range(x):\n",
    "    z = int(input(\"provide a number :\"))\n",
    "    y.append(z)\n",
    "# y = [1, 2,2,3,3,4,4,4]\n",
    "\n",
    "u = []\n",
    "\n",
    "for i in y:\n",
    "    if i not in u:\n",
    "        u.append(i)\n",
    "\n",
    "print(u)"
   ]
  },
  {
   "cell_type": "code",
   "execution_count": 6,
   "metadata": {},
   "outputs": [
    {
     "name": "stdout",
     "output_type": "stream",
     "text": [
      "hello\n",
      "444444\n"
     ]
    }
   ],
   "source": [
    "# to find the list of words that are longer than n from a given list of words\n",
    "x= int(input(\"how many number :\"))\n",
    "y = []\n",
    "for aa in range(x):\n",
    "    z = str(input(\"provide a number :\"))\n",
    "    y.append(z)\n",
    "# x = 4\n",
    "# y = ['1', 'hello', 'ama', '444444',]\n",
    "for ab in y:\n",
    "    if len(ab) > x:\n",
    "        print(ab)"
   ]
  },
  {
   "cell_type": "code",
   "execution_count": 18,
   "metadata": {
    "scrolled": true
   },
   "outputs": [
    {
     "name": "stdout",
     "output_type": "stream",
     "text": [
      " for a how many number :5\n",
      "provide a number :1\n",
      "provide a number :2\n",
      "provide a number :3\n",
      "provide a number :4\n",
      "provide a number :5\n",
      "for how many number :3\n",
      "provide a number :1\n",
      "provide a number :2\n",
      "provide a number :3\n",
      "['2', '3', '4']\n"
     ]
    }
   ],
   "source": [
    "# program to print a specified list after removing given elements\n",
    "x= int(input(\" for a how many number :\"))\n",
    "a = []\n",
    "for aa in range(x):\n",
    "    z = input(\"provide a number :\")\n",
    "    a.append(z)\n",
    "\n",
    "b = []\n",
    "y= int(input(\"for how many number :\"))\n",
    "if x>y:\n",
    "    for aa in range(y):\n",
    "        z = int(input(\"provide a number :\"))\n",
    "        b.append(z)\n",
    "else:\n",
    "    print('write number less than',x)\n",
    "c = []\n",
    "for ab in b:\n",
    "    c.append(a[ab])\n",
    "print(c)"
   ]
  },
  {
   "cell_type": "code",
   "execution_count": 21,
   "metadata": {},
   "outputs": [
    {
     "name": "stdout",
     "output_type": "stream",
     "text": [
      "[1, 3]\n"
     ]
    }
   ],
   "source": [
    "# to print the numbers of a specified list after removing even numbers from it\n",
    "x= int(input(\" for a how many number :\"))\n",
    "a = []\n",
    "for aa in range(x):\n",
    "    z = input(\"provide a number :\")\n",
    "    a.append(z)\n",
    "# a = [1, 2, 3, 4]\n",
    "# x = 4\n",
    "e = []\n",
    "for i in range(x):\n",
    "    if i%2 == 0:\n",
    "        e.append(a[i])\n",
    "print(e)\n",
    "    \n"
   ]
  },
  {
   "cell_type": "code",
   "execution_count": 28,
   "metadata": {},
   "outputs": [
    {
     "name": "stdout",
     "output_type": "stream",
     "text": [
      "[4, 3, 1, 2]\n"
     ]
    }
   ],
   "source": [
    "# to shuffle and print a specified list\n",
    "import random\n",
    "x= int(input(\"how many number :\"))\n",
    "a = []\n",
    "for aa in range(x):\n",
    "    z = input(\"provide a number :\")\n",
    "    a.append(z)\n",
    "# a = [1, 2, 3, 4]\n",
    "random.shuffle(a)\n",
    "print(a)"
   ]
  },
  {
   "cell_type": "code",
   "execution_count": 2,
   "metadata": {},
   "outputs": [
    {
     "name": "stdout",
     "output_type": "stream",
     "text": [
      "['a1', 'a2', 'a3', 'a4', 'a5', 'a6', 'b1', 'b2', 'b3', 'b4', 'b5', 'b6', 'c1', 'c2', 'c3', 'c4', 'c5', 'c6']\n"
     ]
    }
   ],
   "source": [
    "# to create a list by concatenating a given list which range goes from 1 to n.\n",
    "x= int(input(\"how many alphabet :\"))\n",
    "y = []\n",
    "for aa in range(x):\n",
    "    z = str(input(\"provide a alphabet :\"))\n",
    "    y.append(z)\n",
    "print('for the range')\n",
    "b = int(input('higher limit: '))\n",
    "# y = ['a','b','c']\n",
    "# b = 6\n",
    "c = []\n",
    "for i in y:\n",
    "    for j in range(1,b+1):\n",
    "        c.append(i+str(j))\n",
    "print(c)\n",
    "\n",
    "        "
   ]
  },
  {
   "cell_type": "code",
   "execution_count": 7,
   "metadata": {},
   "outputs": [
    {
     "name": "stdout",
     "output_type": "stream",
     "text": [
      "Input sting or integer :24\n",
      "103736224\n"
     ]
    }
   ],
   "source": [
    "# to get variable unique identification number or string\n",
    "x= input(\"Input sting or integer :\")\n",
    "a = id(x)\n",
    "print(a)"
   ]
  },
  {
   "cell_type": "code",
   "execution_count": 24,
   "metadata": {},
   "outputs": [
    {
     "name": "stdout",
     "output_type": "stream",
     "text": [
      "['a', 'b', 1]\n"
     ]
    }
   ],
   "source": [
    "#to find common items from two list\n",
    "x= int(input(\" for a how many number :\"))\n",
    "a = []\n",
    "for aa in range(x):\n",
    "    z = input(\"provide a number :\")\n",
    "    a.append(z)\n",
    "\n",
    "b = []\n",
    "y= int(input(\"for how many number :\"))\n",
    "for aa in range(y):\n",
    "    z = input(\"provide a number :\")\n",
    "    b.append(z)\n",
    "\n",
    "# a = ['a','b',1,2,3]\n",
    "# b = [4,5,'a','b',1]\n",
    "\n",
    "c = []\n",
    "for i in a:\n",
    "    for j in b:\n",
    "        if i == j:\n",
    "            c.append(i)\n",
    "print(c)\n"
   ]
  },
  {
   "cell_type": "code",
   "execution_count": 1,
   "metadata": {},
   "outputs": [],
   "source": [
    "#to change the position of every n-th value with the (n+1)th in a list\n",
    "# x= int(input(\" for a how many number :\"))\n",
    "# a = []\n",
    "# for aa in range(x):\n",
    "#     z = input(\"provide a number :\")\n",
    "#     a.append(z)\n",
    "\n",
    "a = [1,2,3,4,5,\"p\",\"q\",\"r\"]\n",
    "b = 0\n",
    "for ab in a:\n",
    "    for \n",
    "    \n",
    "    \n",
    "    \n",
    "    "
   ]
  },
  {
   "cell_type": "code",
   "execution_count": 7,
   "metadata": {},
   "outputs": [
    {
     "name": "stdout",
     "output_type": "stream",
     "text": [
      "10203044040"
     ]
    }
   ],
   "source": [
    "# to convert a list of multiple integers into a single integer\n",
    "x= int(input(\" for a how many number :\"))\n",
    "a = []\n",
    "for aa in range(x):\n",
    "    z = input(\"provide a number :\")\n",
    "    a.append(z)\n",
    "\n",
    "# a = [10, 20, 30, 440, 40]\n",
    "for i in a:\n",
    "    print(i,end = '')\n",
    "     \n",
    "\n",
    "\n",
    "\n",
    "\n",
    "\n"
   ]
  },
  {
   "cell_type": "code",
   "execution_count": null,
   "metadata": {},
   "outputs": [],
   "source": [
    "# to split a list based on first character of word\n",
    "\n",
    "\n"
   ]
  },
  {
   "cell_type": "code",
   "execution_count": null,
   "metadata": {},
   "outputs": [],
   "source": [
    "# to create multiple lists\n"
   ]
  },
  {
   "cell_type": "code",
   "execution_count": 8,
   "metadata": {},
   "outputs": [
    {
     "name": "stdout",
     "output_type": "stream",
     "text": [
      "a : 1\n",
      "b : 2\n",
      "c : 3\n",
      "d : 4\n",
      "e : 5\n"
     ]
    }
   ],
   "source": [
    "# to split a list into different variables\n",
    " \n",
    "x= int(input(\" for a how many number :\"))\n",
    "a = []\n",
    "for aa in range(x):\n",
    "    z = input(\"provide a number :\")\n",
    "    a.append(z)\n",
    "# a = [1,2,3,4,5]\n",
    "b = []\n",
    "for i in range(97,123):\n",
    "    b.append(chr(i))\n",
    "for i in range(len(a)):\n",
    "    print(b[i] ,':', a[i])\n"
   ]
  },
  {
   "cell_type": "code",
   "execution_count": 15,
   "metadata": {},
   "outputs": [
    {
     "name": "stdout",
     "output_type": "stream",
     "text": [
      " for which number number :5\n",
      "5 : [5, 6, 7, 8, 9]\n"
     ]
    }
   ],
   "source": [
    "# to generate groups of five consecutive numbers in a list\n",
    "x= int(input(\" for which number number :\"))\n",
    "b = []\n",
    "for i in range(x,x+5):\n",
    "    b.append(i)\n",
    "print(x ,':',b)\n",
    "\n",
    "\n"
   ]
  },
  {
   "cell_type": "code",
   "execution_count": 12,
   "metadata": {},
   "outputs": [],
   "source": [
    "# to convert a pair of values into a sorted unique array\n",
    "\n",
    "\n"
   ]
  },
  {
   "cell_type": "code",
   "execution_count": 16,
   "metadata": {},
   "outputs": [
    {
     "name": "stdout",
     "output_type": "stream",
     "text": [
      "odd number : [1, 3, 3, 5, 7]\n"
     ]
    }
   ],
   "source": [
    "# to select the odd items of a list\n",
    "x= int(input(\" for a how many number :\"))\n",
    "a = []\n",
    "for aa in range(x):\n",
    "    z = input(\"provide a number :\")\n",
    "    a.append(z)\n",
    "# a = [1,2,3,3,4,5,6,7,8]\n",
    "e = []\n",
    "o = []\n",
    "for i in a:\n",
    "    if i%2 == 0:\n",
    "        e.append(i)\n",
    "    else:\n",
    "        o.append(i)\n",
    "print('odd number :',o)\n",
    "        \n",
    "\n"
   ]
  },
  {
   "cell_type": "code",
   "execution_count": null,
   "metadata": {},
   "outputs": [],
   "source": [
    "# to insert an element before each element of a list\n"
   ]
  },
  {
   "cell_type": "code",
   "execution_count": 8,
   "metadata": {},
   "outputs": [
    {
     "name": "stdout",
     "output_type": "stream",
     "text": [
      "[[0, 1, 2, 3, 4],\n",
      "[0, 1, 2, 3, 4],\n",
      "[0, 1, 2, 3, 4],\n",
      "[0, 1, 2, 3, 4],\n",
      "[0, 1, 2, 3, 4]]\n"
     ]
    }
   ],
   "source": [
    "# to print a nested lists (each list on a new line) using the print() function\n",
    "a = []\n",
    "for i in range(5):\n",
    "    a.append([])\n",
    "    for j in range(5):\n",
    "        a[i].append(j)\n",
    "a[0] = '['+str(a[0])\n",
    "a[-1] = str(a[-1])+\"]\"\n",
    "for i in range(0,len(a)-1):\n",
    "    a[i] = str(a[i])+','\n",
    "for b in a:\n",
    "    print(b)\n"
   ]
  },
  {
   "cell_type": "code",
   "execution_count": 1,
   "metadata": {},
   "outputs": [
    {
     "name": "stdout",
     "output_type": "stream",
     "text": [
      "[[10, 20], [40], [30, 56, 25], [33]]\n"
     ]
    }
   ],
   "source": [
    "# to remove duplicates from a list of lists\n",
    "a = [[10, 20], [40], [30, 56, 25], [10, 20], [33], [40]]\n",
    "\n",
    "u = []\n",
    "\n",
    "for i in a:\n",
    "    if i not in u:\n",
    "        u.append(i)\n",
    "\n",
    "print(u)\n"
   ]
  },
  {
   "cell_type": "code",
   "execution_count": 9,
   "metadata": {},
   "outputs": [
    {
     "name": "stdout",
     "output_type": "stream",
     "text": [
      "[10, 11, 12]\n"
     ]
    }
   ],
   "source": [
    "# to find the list in a list of lists whose sum of elements is the highest\n",
    "a = [[1,2,3], [4,5,6], [10,11,12], [7,8,9]]\n",
    "x = []\n",
    "for i in a:\n",
    "    b = i[0]\n",
    "    for k in range(len(i)-1):\n",
    "        b = b + i[k+1]\n",
    "    x.append(b)\n",
    "c = max(x)\n",
    "d = x.index(c)\n",
    "print(a[d])\n",
    "\n",
    "\n",
    "\n",
    "\n",
    "\n"
   ]
  },
  {
   "cell_type": "code",
   "execution_count": 3,
   "metadata": {},
   "outputs": [
    {
     "name": "stdin",
     "output_type": "stream",
     "text": [
      "provide a number : 30\n"
     ]
    },
    {
     "name": "stdout",
     "output_type": "stream",
     "text": [
      "[440, 40]\n"
     ]
    }
   ],
   "source": [
    "# to find all the values in a list are greater than a specified number\n",
    "x= int(input(\" for a how many inputs\"))\n",
    "a = []\n",
    "for aa in range(x):\n",
    "    z = int(input(\"write :\"))\n",
    "    a.append(z)\n",
    "# a = [10, 20, 30, 440, 40]\n",
    "y= int(input(\"provide a number :\"))\n",
    "b = []\n",
    "for aa in a:\n",
    "    if aa>y:\n",
    "        b.append(aa)\n",
    "    else:\n",
    "        pass\n",
    "print(b)\n",
    "\n",
    "\n",
    "\n",
    "\n"
   ]
  },
  {
   "cell_type": "code",
   "execution_count": 1,
   "metadata": {},
   "outputs": [
    {
     "name": "stdout",
     "output_type": "stream",
     "text": [
      "original : ['hello ', 'sir'] & [\"hope I'd\", 'get', 'good ', 'marks ', 'out ', 'of', 'it']\n",
      "answer : ['hello ', 'sir', \"hope I'd\", 'get', 'good ', 'marks ', 'out ', 'of', 'it']\n"
     ]
    }
   ],
   "source": [
    "# to extend a list without append\n",
    "\n",
    "x= int(input(\" for a how many inputs\"))\n",
    "a = []\n",
    "for aa in range(x):\n",
    "    z = input(\"write :\")\n",
    "    a.append(z)\n",
    "\n",
    "y= int(input(\"for b how many inputs :\"))\n",
    "b = []\n",
    "for aa in range(y):\n",
    "    z = input(\"write  :\")\n",
    "    b.append(z)\n",
    "\n",
    "# a= ['hello ', 'sir']\n",
    "# b= [\"hope I'd\", 'get', 'good ', 'marks ', 'out ', 'of', 'it']\n",
    "c = a+b\n",
    "print(\"original :\",a, \"&\",b)\n",
    "\n",
    "print(\"answer :\",c)\n",
    "\n",
    "\n",
    "\n"
   ]
  },
  {
   "cell_type": "code",
   "execution_count": 13,
   "metadata": {},
   "outputs": [
    {
     "name": "stdout",
     "output_type": "stream",
     "text": [
      "[1, 2, 3, 4, 5, 6, 7, 8]\n"
     ]
    }
   ],
   "source": [
    "\n",
    "a = [1,[2,3],[4,5,6],7,8]\n",
    "b = []\n",
    "for i in range(len(a)):\n",
    "    if type(a[i]) == list:\n",
    "        for j in a[i]:\n",
    "            a.append(j)\n",
    "    else:\n",
    "        pass\n",
    "c  = []\n",
    "for aa in a:\n",
    "    if type(aa) == int:\n",
    "        c.append(aa)\n",
    "c.sort()\n",
    "print(c)"
   ]
  },
  {
   "cell_type": "code",
   "execution_count": null,
   "metadata": {},
   "outputs": [],
   "source": []
  }
 ],
 "metadata": {
  "kernelspec": {
   "display_name": "Python 3",
   "language": "python",
   "name": "python3"
  },
  "language_info": {
   "codemirror_mode": {
    "name": "ipython",
    "version": 3
   },
   "file_extension": ".py",
   "mimetype": "text/x-python",
   "name": "python",
   "nbconvert_exporter": "python",
   "pygments_lexer": "ipython3",
   "version": "3.8.3"
  }
 },
 "nbformat": 4,
 "nbformat_minor": 4
}
